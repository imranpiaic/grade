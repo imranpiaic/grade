{
 "cells": [
  {
   "cell_type": "code",
   "execution_count": null,
   "id": "17138d9c-2810-4ac4-be5e-8eb915b93003",
   "metadata": {},
   "outputs": [],
   "source": [
    "# Nested For Loop\n",
    "# List Comprehension"
   ]
  },
  {
   "cell_type": "code",
   "execution_count": 1,
   "id": "548f4aa5-a2f8-46d7-9456-3148aa0e90b6",
   "metadata": {},
   "outputs": [
    {
     "name": "stdout",
     "output_type": "stream",
     "text": [
      "['karachi', 'hyderabad', 'islamabad', 'quetta', 'lahore']\n",
      "['islamabad', 'multan', 'faisalabad', 'quetta', 'peshawar']\n"
     ]
    }
   ],
   "source": [
    "cities = ['karachi', 'hyderabad', 'islamabad', 'quetta', 'lahore']\n",
    "visited_cities = ['islamabad', 'multan','faisalabad','quetta','peshawar']\n",
    "print(cities)\n",
    "print(visited_cities)"
   ]
  },
  {
   "cell_type": "code",
   "execution_count": 17,
   "id": "10ef6142-659c-47ac-83a0-75bd6fc060d0",
   "metadata": {},
   "outputs": [
    {
     "name": "stdout",
     "output_type": "stream",
     "text": [
      "karachi islamabad\n",
      "karachi multan\n",
      "karachi faisalabad\n",
      "karachi quetta\n",
      "karachi peshawar\n",
      "------------------------------------------------------------------------------------------\n",
      "hyderabad islamabad\n",
      "hyderabad multan\n",
      "hyderabad faisalabad\n",
      "hyderabad quetta\n",
      "hyderabad peshawar\n",
      "------------------------------------------------------------------------------------------\n",
      "islamabad islamabad\n",
      "islamabad multan\n",
      "islamabad faisalabad\n",
      "islamabad quetta\n",
      "islamabad peshawar\n",
      "------------------------------------------------------------------------------------------\n",
      "quetta islamabad\n",
      "quetta multan\n",
      "quetta faisalabad\n",
      "quetta quetta\n",
      "quetta peshawar\n",
      "------------------------------------------------------------------------------------------\n",
      "lahore islamabad\n",
      "lahore multan\n",
      "lahore faisalabad\n",
      "lahore quetta\n",
      "lahore peshawar\n",
      "------------------------------------------------------------------------------------------\n"
     ]
    }
   ],
   "source": [
    "for city in cities:\n",
    "    for visit_city in visited_cities:\n",
    "        print(city, visit_city)\n",
    "    print(\"------\"*15)\n",
    "    "
   ]
  },
  {
   "cell_type": "code",
   "execution_count": 19,
   "id": "d7fd439c-7a1f-4cde-90e5-79b1708a2857",
   "metadata": {},
   "outputs": [
    {
     "name": "stdout",
     "output_type": "stream",
     "text": [
      "['karachi']\n",
      "['karachi', 'hyderabad']\n",
      "already visited\n",
      "['karachi', 'hyderabad']\n",
      "already visited\n",
      "['karachi', 'hyderabad']\n",
      "['karachi', 'hyderabad', 'lahore']\n"
     ]
    }
   ],
   "source": [
    "remaining_cities_visit = []\n",
    "\n",
    "for city in cities:\n",
    "    if city in visited_cities:\n",
    "        print('already visited')\n",
    "    else:\n",
    "        remaining_cities_visit.append(city)\n",
    "    print(remaining_cities_visit)"
   ]
  },
  {
   "cell_type": "code",
   "execution_count": 21,
   "id": "1a68cd1b-eb8d-4da0-b860-41b662f2cc9d",
   "metadata": {},
   "outputs": [
    {
     "data": {
      "text/plain": [
       "[]"
      ]
     },
     "execution_count": 21,
     "metadata": {},
     "output_type": "execute_result"
    }
   ],
   "source": [
    "cities_to_visit = []\n",
    "cities_to_visit"
   ]
  },
  {
   "cell_type": "code",
   "execution_count": 25,
   "id": "4e167db2-05c8-4840-a5b7-6586fb8073dd",
   "metadata": {},
   "outputs": [
    {
     "name": "stdin",
     "output_type": "stream",
     "text": [
      "Enter city to visit: lahore\n",
      "Enter city to visit: karachi\n",
      "Enter city to visit: multan\n",
      "Enter city to visit: Quit\n",
      "Enter city to visit: quit\n"
     ]
    },
    {
     "name": "stdout",
     "output_type": "stream",
     "text": [
      "['lahore', 'karachi', 'multan', 'Quit']\n"
     ]
    }
   ],
   "source": [
    "cities_to_visit = []\n",
    "user_input = ''\n",
    "\n",
    "while user_input != 'quit':\n",
    "    city = input('Enter city to visit:')\n",
    "    if city == 'quit':\n",
    "        user_input = 'quit'\n",
    "    else:\n",
    "        cities_to_visit.append(city)\n",
    "    \n",
    "print(cities_to_visit)\n"
   ]
  },
  {
   "cell_type": "code",
   "execution_count": 30,
   "id": "5b8b1919-a674-424b-bcdb-33f80b3248c8",
   "metadata": {},
   "outputs": [
    {
     "name": "stdout",
     "output_type": "stream",
     "text": [
      "['Monday', 'Tuesday', 'Wednesday', 'Thursday', 'Friday']\n",
      "['9AM-10AM', '10AM-11AM', '11AM-12PM']\n"
     ]
    }
   ],
   "source": [
    "week_days = ['Monday', 'Tuesday', 'Wednesday', 'Thursday', 'Friday']\n",
    "time_slots = ['9AM-10AM', '10AM-11AM', '11AM-12PM']\n",
    "print(week_days)\n",
    "print(time_slots)"
   ]
  },
  {
   "cell_type": "raw",
   "id": "ef46e51a-00b1-4b12-a406-93f0c1fcfe8e",
   "metadata": {},
   "source": [
    "Schedule for Monday:\n",
    "class at 9AM-10AM\n",
    "class at 10AM-11AM\n",
    "class at 11AM-12PM\n",
    "\n",
    "Schedule for Tuesday:\n",
    "class at 9AM-10AM\n",
    "class at 10AM-11AM\n",
    "class at 11AM-12PM"
   ]
  },
  {
   "cell_type": "code",
   "execution_count": 34,
   "id": "1744c0ed-e753-43cf-ac4a-6711a4ed563a",
   "metadata": {},
   "outputs": [
    {
     "data": {
      "text/plain": [
       "25"
      ]
     },
     "execution_count": 34,
     "metadata": {},
     "output_type": "execute_result"
    }
   ],
   "source": [
    "name = 'sara'\n",
    "name\n",
    "age = 25\n",
    "age"
   ]
  },
  {
   "cell_type": "code",
   "execution_count": 50,
   "id": "c4734438-a44a-41af-a808-d9dcdbf5c58f",
   "metadata": {},
   "outputs": [
    {
     "name": "stdout",
     "output_type": "stream",
     "text": [
      "This is my name: sara25\n"
     ]
    }
   ],
   "source": [
    "print(\"This is my name:\" +\" \"+  name + str(age))"
   ]
  },
  {
   "cell_type": "code",
   "execution_count": 54,
   "id": "51f0da99-6f41-4d29-aff7-f096931011bc",
   "metadata": {},
   "outputs": [
    {
     "name": "stdout",
     "output_type": "stream",
     "text": [
      "This is my name: sara , 25\n"
     ]
    }
   ],
   "source": [
    "print(f'This is my name: {name} , {age}')"
   ]
  },
  {
   "cell_type": "code",
   "execution_count": 56,
   "id": "dae72eac-1a7c-4112-8996-7d2eaa8fbc51",
   "metadata": {},
   "outputs": [
    {
     "data": {
      "text/plain": [
       "['Monday', 'Tuesday', 'Wednesday', 'Thursday', 'Friday']"
      ]
     },
     "execution_count": 56,
     "metadata": {},
     "output_type": "execute_result"
    }
   ],
   "source": [
    "week_days"
   ]
  },
  {
   "cell_type": "code",
   "execution_count": 58,
   "id": "b512ed25-5d0d-45dd-b5e2-b42a37c36a14",
   "metadata": {},
   "outputs": [
    {
     "data": {
      "text/plain": [
       "['9AM-10AM', '10AM-11AM', '11AM-12PM']"
      ]
     },
     "execution_count": 58,
     "metadata": {},
     "output_type": "execute_result"
    }
   ],
   "source": [
    "time_slots"
   ]
  },
  {
   "cell_type": "code",
   "execution_count": 64,
   "id": "f269842a-aef1-4caf-bb09-7db319866152",
   "metadata": {},
   "outputs": [
    {
     "name": "stdout",
     "output_type": "stream",
     "text": [
      "Schedule for: Monday\n",
      "Class at: 9AM-10AM\n",
      "Class at: 10AM-11AM\n",
      "Class at: 11AM-12PM\n",
      "\n",
      "Schedule for: Tuesday\n",
      "Class at: 9AM-10AM\n",
      "Class at: 10AM-11AM\n",
      "Class at: 11AM-12PM\n",
      "\n",
      "Schedule for: Wednesday\n",
      "Class at: 9AM-10AM\n",
      "Class at: 10AM-11AM\n",
      "Class at: 11AM-12PM\n",
      "\n",
      "Schedule for: Thursday\n",
      "Class at: 9AM-10AM\n",
      "Class at: 10AM-11AM\n",
      "Class at: 11AM-12PM\n",
      "\n",
      "Schedule for: Friday\n",
      "Class at: 9AM-10AM\n",
      "Class at: 10AM-11AM\n",
      "Class at: 11AM-12PM\n",
      "\n"
     ]
    }
   ],
   "source": [
    "for week_day in week_days:\n",
    "    print(f'Schedule for: {week_day}')\n",
    "    for slot in time_slots:\n",
    "        print(f'Class at: {slot}')\n",
    "    print()"
   ]
  },
  {
   "cell_type": "code",
   "execution_count": 66,
   "id": "ea65731c-ac10-47d2-b759-2c0eb340542a",
   "metadata": {},
   "outputs": [
    {
     "data": {
      "text/plain": [
       "[2, 3, 4, 5]"
      ]
     },
     "execution_count": 66,
     "metadata": {},
     "output_type": "execute_result"
    }
   ],
   "source": [
    "numbers = [2,3,4,5]\n",
    "numbers"
   ]
  },
  {
   "cell_type": "code",
   "execution_count": 80,
   "id": "75d9fcab-c15f-413b-8f9b-2df79b2f1662",
   "metadata": {},
   "outputs": [],
   "source": [
    "number1 = []\n",
    "for number in numbers:\n",
    "    # print(number ** 2)\n",
    "    square = number**2\n",
    "    number1.append(square)"
   ]
  },
  {
   "cell_type": "code",
   "execution_count": 82,
   "id": "4c50ce3f-9dc1-47c4-a337-609dd0291c14",
   "metadata": {},
   "outputs": [
    {
     "data": {
      "text/plain": [
       "[4, 9, 16, 25]"
      ]
     },
     "execution_count": 82,
     "metadata": {},
     "output_type": "execute_result"
    }
   ],
   "source": [
    "number1"
   ]
  },
  {
   "cell_type": "markdown",
   "id": "8e5a96c5-0af3-4da2-9687-52ee7c766622",
   "metadata": {},
   "source": [
    "# List Comprehension"
   ]
  },
  {
   "cell_type": "code",
   "execution_count": 85,
   "id": "7d976950-dd0f-428f-9ffd-8f8b71d4ca1a",
   "metadata": {},
   "outputs": [
    {
     "data": {
      "text/plain": [
       "[2, 3, 4, 5]"
      ]
     },
     "execution_count": 85,
     "metadata": {},
     "output_type": "execute_result"
    }
   ],
   "source": [
    "numbers"
   ]
  },
  {
   "cell_type": "code",
   "execution_count": 89,
   "id": "737cceb0-3702-41ba-b8c1-84a4130ed14d",
   "metadata": {},
   "outputs": [
    {
     "data": {
      "text/plain": [
       "[4, 9, 16, 25]"
      ]
     },
     "execution_count": 89,
     "metadata": {},
     "output_type": "execute_result"
    }
   ],
   "source": [
    "num = [number**2 for number in numbers]\n",
    "num"
   ]
  },
  {
   "cell_type": "code",
   "execution_count": 91,
   "id": "5d61328f-169a-4160-af2d-49b42911a56d",
   "metadata": {},
   "outputs": [],
   "source": [
    "Ec_Store_Orders = [\n",
    "    {\"order_id\": 1, \"customer_name\": \"Ali\", \"total_amount\": 120, \"status\": \"Completed\"},\n",
    "    {\"order_id\": 2, \"customer_name\": \"Raheel\", \"total_amount\": 80, \"status\": \"Pending\"},\n",
    "    {\"order_id\": 3, \"customer_name\": \"Saleem\", \"total_amount\": 150, \"status\": \"Completed\"},\n",
    "    {\"order_id\": 4, \"customer_name\": \"khushnoor\", \"total_amount\": 95, \"status\": \"Completed\"},\n",
    "    {\"order_id\": 5, \"customer_name\": \"Alizy\", \"total_amount\": 200, \"status\": \"Pending\"},\n",
    "    {\"order_id\": 6, \"customer_name\": \"javaid\", \"total_amount\": 85, \"status\": \"Completed\"},\n",
    "    {\"order_id\": 7, \"customer_name\": \"Talha\", \"total_amount\": 150, \"status\": \"Pending\"},\n",
    "    {\"order_id\": 8, \"customer_name\": \"Naveed\", \"total_amount\": 200, \"status\": \"Completed\"},\n",
    "]"
   ]
  },
  {
   "cell_type": "code",
   "execution_count": 99,
   "id": "f44b0471-73d4-496e-86ed-0179b7313427",
   "metadata": {},
   "outputs": [
    {
     "name": "stdout",
     "output_type": "stream",
     "text": [
      "{'order_id': 1, 'customer_name': 'Ali', 'total_amount': 120, 'status': 'Completed'}\n",
      "{'order_id': 3, 'customer_name': 'Saleem', 'total_amount': 150, 'status': 'Completed'}\n",
      "{'order_id': 8, 'customer_name': 'Naveed', 'total_amount': 200, 'status': 'Completed'}\n"
     ]
    }
   ],
   "source": [
    "for order in Ec_Store_Orders:\n",
    "    if order['total_amount'] > 100 and order['status'] == 'Completed':\n",
    "        print(order)"
   ]
  },
  {
   "cell_type": "code",
   "execution_count": 103,
   "id": "da3f928d-1428-47f3-8bd7-cec3a584e939",
   "metadata": {},
   "outputs": [],
   "source": [
    "with_out_list_comp = []\n",
    "for order in Ec_Store_Orders:\n",
    "    if order['total_amount'] > 100 and order['status'] == 'Completed':\n",
    "        # print(order['order_id'])\n",
    "        with_out_list_comp.append(order['order_id'])"
   ]
  },
  {
   "cell_type": "code",
   "execution_count": 105,
   "id": "0ad0d9e0-a0c9-4115-8067-5ac3ba866d4c",
   "metadata": {},
   "outputs": [
    {
     "data": {
      "text/plain": [
       "[1, 3, 8]"
      ]
     },
     "execution_count": 105,
     "metadata": {},
     "output_type": "execute_result"
    }
   ],
   "source": [
    "with_out_list_comp"
   ]
  },
  {
   "cell_type": "code",
   "execution_count": 107,
   "id": "58b1b33c-ed1d-4a96-af38-ee61dae23476",
   "metadata": {},
   "outputs": [],
   "source": [
    "with_list_comp = [order['order_id'] for order in Ec_Store_Orders if order['total_amount'] > 100 and order['status'] == 'Completed']"
   ]
  },
  {
   "cell_type": "code",
   "execution_count": 109,
   "id": "357cb399-8b4b-42c1-8aa1-4dba0371428a",
   "metadata": {},
   "outputs": [
    {
     "data": {
      "text/plain": [
       "[1, 3, 8]"
      ]
     },
     "execution_count": 109,
     "metadata": {},
     "output_type": "execute_result"
    }
   ],
   "source": [
    "with_list_comp"
   ]
  },
  {
   "cell_type": "code",
   "execution_count": null,
   "id": "30c328b2-41ff-41e6-bb2f-dd931b8f502c",
   "metadata": {},
   "outputs": [],
   "source": []
  }
 ],
 "metadata": {
  "kernelspec": {
   "display_name": "Python 3 (ipykernel)",
   "language": "python",
   "name": "python3"
  },
  "language_info": {
   "codemirror_mode": {
    "name": "ipython",
    "version": 3
   },
   "file_extension": ".py",
   "mimetype": "text/x-python",
   "name": "python",
   "nbconvert_exporter": "python",
   "pygments_lexer": "ipython3",
   "version": "3.12.4"
  }
 },
 "nbformat": 4,
 "nbformat_minor": 5
}
